{
 "cells": [
  {
   "cell_type": "code",
   "execution_count": 1,
   "id": "dac13a62",
   "metadata": {},
   "outputs": [],
   "source": [
    "import numpy as np\n",
    "import pandas as pd"
   ]
  },
  {
   "cell_type": "markdown",
   "id": "84151934",
   "metadata": {},
   "source": [
    "## Pandas Series Demonstration"
   ]
  },
  {
   "cell_type": "code",
   "execution_count": 2,
   "id": "4cd565be",
   "metadata": {},
   "outputs": [
    {
     "data": {
      "text/plain": [
       "20     0\n",
       "21     1\n",
       "22     2\n",
       "23     3\n",
       "24     4\n",
       "25     5\n",
       "26     6\n",
       "27     7\n",
       "28     8\n",
       "29     9\n",
       "30    10\n",
       "31    11\n",
       "32    12\n",
       "33    13\n",
       "34    14\n",
       "35    15\n",
       "36    16\n",
       "37    17\n",
       "38    18\n",
       "39    19\n",
       "dtype: int64"
      ]
     },
     "execution_count": 2,
     "metadata": {},
     "output_type": "execute_result"
    }
   ],
   "source": [
    "# In pandas series you can pass set of data in data paramater and \n",
    "# in index param you can pass indexes for data.\n",
    "pd.Series(data=np.arange(0,20), index=np.arange(20,40)) "
   ]
  },
  {
   "cell_type": "code",
   "execution_count": 3,
   "id": "1230b2ae",
   "metadata": {},
   "outputs": [
    {
     "data": {
      "text/plain": [
       "a    100\n",
       "b    200\n",
       "c    300\n",
       "dtype: int64"
      ]
     },
     "execution_count": 3,
     "metadata": {},
     "output_type": "execute_result"
    }
   ],
   "source": [
    "my_d = {\n",
    "    'a': 100,\n",
    "    'b': 200,\n",
    "    'c': 300\n",
    "}\n",
    "pd.Series(my_d)"
   ]
  },
  {
   "cell_type": "markdown",
   "id": "09dc9e38",
   "metadata": {},
   "source": [
    "## Pandas DataFrame Demonstration"
   ]
  },
  {
   "cell_type": "code",
   "execution_count": 4,
   "id": "a9a5efe9",
   "metadata": {},
   "outputs": [
    {
     "data": {
      "text/plain": [
       "array([[ 0.10476876,  0.62454684,  0.16443444, -0.76314465],\n",
       "       [-2.32531154, -0.9138969 , -0.10497923, -0.71246292],\n",
       "       [ 0.19314233,  0.66482219, -0.78078111, -0.12130397]])"
      ]
     },
     "execution_count": 4,
     "metadata": {},
     "output_type": "execute_result"
    }
   ],
   "source": [
    "my_data = np.random.randn(3,4)\n",
    "my_data"
   ]
  },
  {
   "cell_type": "code",
   "execution_count": 5,
   "id": "ac6a1447",
   "metadata": {},
   "outputs": [
    {
     "data": {
      "text/html": [
       "<div>\n",
       "<style scoped>\n",
       "    .dataframe tbody tr th:only-of-type {\n",
       "        vertical-align: middle;\n",
       "    }\n",
       "\n",
       "    .dataframe tbody tr th {\n",
       "        vertical-align: top;\n",
       "    }\n",
       "\n",
       "    .dataframe thead th {\n",
       "        text-align: right;\n",
       "    }\n",
       "</style>\n",
       "<table border=\"1\" class=\"dataframe\">\n",
       "  <thead>\n",
       "    <tr style=\"text-align: right;\">\n",
       "      <th></th>\n",
       "      <th>C1</th>\n",
       "      <th>C2</th>\n",
       "      <th>C3</th>\n",
       "      <th>C4</th>\n",
       "    </tr>\n",
       "  </thead>\n",
       "  <tbody>\n",
       "    <tr>\n",
       "      <th>R1</th>\n",
       "      <td>0.104769</td>\n",
       "      <td>0.624547</td>\n",
       "      <td>0.164434</td>\n",
       "      <td>-0.763145</td>\n",
       "    </tr>\n",
       "    <tr>\n",
       "      <th>R2</th>\n",
       "      <td>-2.325312</td>\n",
       "      <td>-0.913897</td>\n",
       "      <td>-0.104979</td>\n",
       "      <td>-0.712463</td>\n",
       "    </tr>\n",
       "    <tr>\n",
       "      <th>R3</th>\n",
       "      <td>0.193142</td>\n",
       "      <td>0.664822</td>\n",
       "      <td>-0.780781</td>\n",
       "      <td>-0.121304</td>\n",
       "    </tr>\n",
       "  </tbody>\n",
       "</table>\n",
       "</div>"
      ],
      "text/plain": [
       "          C1        C2        C3        C4\n",
       "R1  0.104769  0.624547  0.164434 -0.763145\n",
       "R2 -2.325312 -0.913897 -0.104979 -0.712463\n",
       "R3  0.193142  0.664822 -0.780781 -0.121304"
      ]
     },
     "execution_count": 5,
     "metadata": {},
     "output_type": "execute_result"
    }
   ],
   "source": [
    "my_data_frame = pd.DataFrame(my_data,['R1', 'R2','R3'], ['C1','C2','C3','C4'])\n",
    "my_data_frame"
   ]
  },
  {
   "cell_type": "code",
   "execution_count": 6,
   "id": "83fb3046",
   "metadata": {},
   "outputs": [
    {
     "data": {
      "text/plain": [
       "R1    0.104769\n",
       "R2   -2.325312\n",
       "R3    0.193142\n",
       "Name: C1, dtype: float64"
      ]
     },
     "execution_count": 6,
     "metadata": {},
     "output_type": "execute_result"
    }
   ],
   "source": [
    "my_data_frame['C1'] # Single Column."
   ]
  },
  {
   "cell_type": "code",
   "execution_count": 7,
   "id": "55aa6e10",
   "metadata": {},
   "outputs": [
    {
     "data": {
      "text/html": [
       "<div>\n",
       "<style scoped>\n",
       "    .dataframe tbody tr th:only-of-type {\n",
       "        vertical-align: middle;\n",
       "    }\n",
       "\n",
       "    .dataframe tbody tr th {\n",
       "        vertical-align: top;\n",
       "    }\n",
       "\n",
       "    .dataframe thead th {\n",
       "        text-align: right;\n",
       "    }\n",
       "</style>\n",
       "<table border=\"1\" class=\"dataframe\">\n",
       "  <thead>\n",
       "    <tr style=\"text-align: right;\">\n",
       "      <th></th>\n",
       "      <th>C1</th>\n",
       "      <th>C4</th>\n",
       "    </tr>\n",
       "  </thead>\n",
       "  <tbody>\n",
       "    <tr>\n",
       "      <th>R1</th>\n",
       "      <td>0.104769</td>\n",
       "      <td>-0.763145</td>\n",
       "    </tr>\n",
       "    <tr>\n",
       "      <th>R2</th>\n",
       "      <td>-2.325312</td>\n",
       "      <td>-0.712463</td>\n",
       "    </tr>\n",
       "    <tr>\n",
       "      <th>R3</th>\n",
       "      <td>0.193142</td>\n",
       "      <td>-0.121304</td>\n",
       "    </tr>\n",
       "  </tbody>\n",
       "</table>\n",
       "</div>"
      ],
      "text/plain": [
       "          C1        C4\n",
       "R1  0.104769 -0.763145\n",
       "R2 -2.325312 -0.712463\n",
       "R3  0.193142 -0.121304"
      ]
     },
     "execution_count": 7,
     "metadata": {},
     "output_type": "execute_result"
    }
   ],
   "source": [
    "my_data_frame[['C1', 'C4']] # Multiple Column Selection."
   ]
  },
  {
   "cell_type": "code",
   "execution_count": 8,
   "id": "b2646f48",
   "metadata": {},
   "outputs": [
    {
     "data": {
      "text/html": [
       "<div>\n",
       "<style scoped>\n",
       "    .dataframe tbody tr th:only-of-type {\n",
       "        vertical-align: middle;\n",
       "    }\n",
       "\n",
       "    .dataframe tbody tr th {\n",
       "        vertical-align: top;\n",
       "    }\n",
       "\n",
       "    .dataframe thead th {\n",
       "        text-align: right;\n",
       "    }\n",
       "</style>\n",
       "<table border=\"1\" class=\"dataframe\">\n",
       "  <thead>\n",
       "    <tr style=\"text-align: right;\">\n",
       "      <th></th>\n",
       "      <th>C5</th>\n",
       "    </tr>\n",
       "  </thead>\n",
       "  <tbody>\n",
       "    <tr>\n",
       "      <th>R1</th>\n",
       "      <td>-0.079954</td>\n",
       "    </tr>\n",
       "    <tr>\n",
       "      <th>R2</th>\n",
       "      <td>1.656698</td>\n",
       "    </tr>\n",
       "    <tr>\n",
       "      <th>R3</th>\n",
       "      <td>-0.023429</td>\n",
       "    </tr>\n",
       "  </tbody>\n",
       "</table>\n",
       "</div>"
      ],
      "text/plain": [
       "          C5\n",
       "R1 -0.079954\n",
       "R2  1.656698\n",
       "R3 -0.023429"
      ]
     },
     "execution_count": 8,
     "metadata": {},
     "output_type": "execute_result"
    }
   ],
   "source": [
    "# Adding a new row.\n",
    "my_data_frame['C5'] = my_data_frame['C1'] * my_data_frame['C4']\n",
    "my_data_frame[['C5']]"
   ]
  },
  {
   "cell_type": "code",
   "execution_count": 9,
   "id": "cb7fa96b",
   "metadata": {},
   "outputs": [],
   "source": [
    "# deleting a row from tabl\n",
    "my_data_frame.drop('C2', axis=1, inplace=True)\n",
    "\n",
    "# Inplace means the row is permenently deleted."
   ]
  },
  {
   "cell_type": "code",
   "execution_count": null,
   "id": "eb53ecfd",
   "metadata": {},
   "outputs": [],
   "source": []
  }
 ],
 "metadata": {
  "kernelspec": {
   "display_name": "Python 3 (ipykernel)",
   "language": "python",
   "name": "python3"
  },
  "language_info": {
   "codemirror_mode": {
    "name": "ipython",
    "version": 3
   },
   "file_extension": ".py",
   "mimetype": "text/x-python",
   "name": "python",
   "nbconvert_exporter": "python",
   "pygments_lexer": "ipython3",
   "version": "3.9.13"
  }
 },
 "nbformat": 4,
 "nbformat_minor": 5
}
