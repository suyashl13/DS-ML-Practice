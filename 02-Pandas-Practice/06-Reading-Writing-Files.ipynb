{
 "cells": [
  {
   "cell_type": "code",
   "execution_count": 1,
   "id": "77b30954",
   "metadata": {},
   "outputs": [],
   "source": [
    "import numpy as np\n",
    "import pandas as pd"
   ]
  },
  {
   "cell_type": "markdown",
   "id": "661dffcd",
   "metadata": {},
   "source": [
    "## Libraries Required :\n",
    "\n",
    "- lxml (For importing excel sheets)\n",
    "- html5lib, bs4 (For Webscraping)"
   ]
  },
  {
   "cell_type": "code",
   "execution_count": 2,
   "id": "884f62b6",
   "metadata": {},
   "outputs": [],
   "source": [
    "tesla_dataset = pd.read_csv('./Datasets/Tesla_stock_Price.csv')"
   ]
  },
  {
   "cell_type": "code",
   "execution_count": 3,
   "id": "043040aa",
   "metadata": {},
   "outputs": [
    {
     "data": {
      "text/html": [
       "<div>\n",
       "<style scoped>\n",
       "    .dataframe tbody tr th:only-of-type {\n",
       "        vertical-align: middle;\n",
       "    }\n",
       "\n",
       "    .dataframe tbody tr th {\n",
       "        vertical-align: top;\n",
       "    }\n",
       "\n",
       "    .dataframe thead th {\n",
       "        text-align: right;\n",
       "    }\n",
       "</style>\n",
       "<table border=\"1\" class=\"dataframe\">\n",
       "  <thead>\n",
       "    <tr style=\"text-align: right;\">\n",
       "      <th></th>\n",
       "      <th>Date</th>\n",
       "      <th>Price</th>\n",
       "      <th>Open</th>\n",
       "      <th>High</th>\n",
       "      <th>Low</th>\n",
       "      <th>Volume</th>\n",
       "      <th>Chg%</th>\n",
       "    </tr>\n",
       "  </thead>\n",
       "  <tbody>\n",
       "    <tr>\n",
       "      <th>0</th>\n",
       "      <td>1-Apr-11</td>\n",
       "      <td>1.78</td>\n",
       "      <td>1.83</td>\n",
       "      <td>1.88</td>\n",
       "      <td>1.77</td>\n",
       "      <td>42.98M</td>\n",
       "      <td>-3.78%</td>\n",
       "    </tr>\n",
       "    <tr>\n",
       "      <th>1</th>\n",
       "      <td>1-Apr-13</td>\n",
       "      <td>2.93</td>\n",
       "      <td>2.82</td>\n",
       "      <td>3.11</td>\n",
       "      <td>2.78</td>\n",
       "      <td>211.59M</td>\n",
       "      <td>15.81%</td>\n",
       "    </tr>\n",
       "    <tr>\n",
       "      <th>2</th>\n",
       "      <td>1-Apr-14</td>\n",
       "      <td>14.46</td>\n",
       "      <td>13.93</td>\n",
       "      <td>14.54</td>\n",
       "      <td>13.91</td>\n",
       "      <td>110.57M</td>\n",
       "      <td>4.03%</td>\n",
       "    </tr>\n",
       "    <tr>\n",
       "      <th>3</th>\n",
       "      <td>1-Apr-15</td>\n",
       "      <td>12.51</td>\n",
       "      <td>12.58</td>\n",
       "      <td>12.82</td>\n",
       "      <td>12.4</td>\n",
       "      <td>56.92M</td>\n",
       "      <td>-0.56%</td>\n",
       "    </tr>\n",
       "    <tr>\n",
       "      <th>4</th>\n",
       "      <td>1-Apr-16</td>\n",
       "      <td>15.84</td>\n",
       "      <td>16.32</td>\n",
       "      <td>16.53</td>\n",
       "      <td>15.55</td>\n",
       "      <td>239.96M</td>\n",
       "      <td>3.39%</td>\n",
       "    </tr>\n",
       "  </tbody>\n",
       "</table>\n",
       "</div>"
      ],
      "text/plain": [
       "       Date  Price   Open   High    Low   Volume    Chg%\n",
       "0  1-Apr-11   1.78   1.83   1.88   1.77   42.98M  -3.78%\n",
       "1  1-Apr-13   2.93   2.82   3.11   2.78  211.59M  15.81%\n",
       "2  1-Apr-14  14.46  13.93  14.54  13.91  110.57M   4.03%\n",
       "3  1-Apr-15  12.51  12.58  12.82   12.4   56.92M  -0.56%\n",
       "4  1-Apr-16  15.84  16.32  16.53  15.55  239.96M   3.39%"
      ]
     },
     "execution_count": 3,
     "metadata": {},
     "output_type": "execute_result"
    }
   ],
   "source": [
    "tesla_dataset.head()"
   ]
  },
  {
   "cell_type": "markdown",
   "id": "47170883",
   "metadata": {},
   "source": [
    "### Writing to CSV"
   ]
  },
  {
   "cell_type": "code",
   "execution_count": 7,
   "id": "2ab0f81f",
   "metadata": {},
   "outputs": [],
   "source": [
    "tesla_dataset.to_csv('out.csv', index=False)"
   ]
  },
  {
   "cell_type": "code",
   "execution_count": 8,
   "id": "783a4655",
   "metadata": {},
   "outputs": [
    {
     "data": {
      "text/html": [
       "<div>\n",
       "<style scoped>\n",
       "    .dataframe tbody tr th:only-of-type {\n",
       "        vertical-align: middle;\n",
       "    }\n",
       "\n",
       "    .dataframe tbody tr th {\n",
       "        vertical-align: top;\n",
       "    }\n",
       "\n",
       "    .dataframe thead th {\n",
       "        text-align: right;\n",
       "    }\n",
       "</style>\n",
       "<table border=\"1\" class=\"dataframe\">\n",
       "  <thead>\n",
       "    <tr style=\"text-align: right;\">\n",
       "      <th></th>\n",
       "      <th>Date</th>\n",
       "      <th>Price</th>\n",
       "      <th>Open</th>\n",
       "      <th>High</th>\n",
       "      <th>Low</th>\n",
       "      <th>Volume</th>\n",
       "      <th>Chg%</th>\n",
       "    </tr>\n",
       "  </thead>\n",
       "  <tbody>\n",
       "    <tr>\n",
       "      <th>0</th>\n",
       "      <td>1-Apr-11</td>\n",
       "      <td>1.78</td>\n",
       "      <td>1.83</td>\n",
       "      <td>1.88</td>\n",
       "      <td>1.77</td>\n",
       "      <td>42.98M</td>\n",
       "      <td>-3.78%</td>\n",
       "    </tr>\n",
       "    <tr>\n",
       "      <th>1</th>\n",
       "      <td>1-Apr-13</td>\n",
       "      <td>2.93</td>\n",
       "      <td>2.82</td>\n",
       "      <td>3.11</td>\n",
       "      <td>2.78</td>\n",
       "      <td>211.59M</td>\n",
       "      <td>15.81%</td>\n",
       "    </tr>\n",
       "    <tr>\n",
       "      <th>2</th>\n",
       "      <td>1-Apr-14</td>\n",
       "      <td>14.46</td>\n",
       "      <td>13.93</td>\n",
       "      <td>14.54</td>\n",
       "      <td>13.91</td>\n",
       "      <td>110.57M</td>\n",
       "      <td>4.03%</td>\n",
       "    </tr>\n",
       "    <tr>\n",
       "      <th>3</th>\n",
       "      <td>1-Apr-15</td>\n",
       "      <td>12.51</td>\n",
       "      <td>12.58</td>\n",
       "      <td>12.82</td>\n",
       "      <td>12.4</td>\n",
       "      <td>56.92M</td>\n",
       "      <td>-0.56%</td>\n",
       "    </tr>\n",
       "    <tr>\n",
       "      <th>4</th>\n",
       "      <td>1-Apr-16</td>\n",
       "      <td>15.84</td>\n",
       "      <td>16.32</td>\n",
       "      <td>16.53</td>\n",
       "      <td>15.55</td>\n",
       "      <td>239.96M</td>\n",
       "      <td>3.39%</td>\n",
       "    </tr>\n",
       "  </tbody>\n",
       "</table>\n",
       "</div>"
      ],
      "text/plain": [
       "       Date  Price   Open   High    Low   Volume    Chg%\n",
       "0  1-Apr-11   1.78   1.83   1.88   1.77   42.98M  -3.78%\n",
       "1  1-Apr-13   2.93   2.82   3.11   2.78  211.59M  15.81%\n",
       "2  1-Apr-14  14.46  13.93  14.54  13.91  110.57M   4.03%\n",
       "3  1-Apr-15  12.51  12.58  12.82   12.4   56.92M  -0.56%\n",
       "4  1-Apr-16  15.84  16.32  16.53  15.55  239.96M   3.39%"
      ]
     },
     "execution_count": 8,
     "metadata": {},
     "output_type": "execute_result"
    }
   ],
   "source": [
    "pd.read_csv('out.csv').head()"
   ]
  }
 ],
 "metadata": {
  "kernelspec": {
   "display_name": "Python 3 (ipykernel)",
   "language": "python",
   "name": "python3"
  },
  "language_info": {
   "codemirror_mode": {
    "name": "ipython",
    "version": 3
   },
   "file_extension": ".py",
   "mimetype": "text/x-python",
   "name": "python",
   "nbconvert_exporter": "python",
   "pygments_lexer": "ipython3",
   "version": "3.9.13"
  }
 },
 "nbformat": 4,
 "nbformat_minor": 5
}
