{
 "cells": [
  {
   "cell_type": "code",
   "execution_count": 1,
   "id": "620446ef",
   "metadata": {},
   "outputs": [],
   "source": [
    "import numpy as np\n",
    "import pandas as pd"
   ]
  },
  {
   "cell_type": "markdown",
   "id": "cf24dd7c",
   "metadata": {},
   "source": [
    "## Single Conditional selection"
   ]
  },
  {
   "cell_type": "code",
   "execution_count": 2,
   "id": "3163953b",
   "metadata": {},
   "outputs": [
    {
     "data": {
      "text/html": [
       "<div>\n",
       "<style scoped>\n",
       "    .dataframe tbody tr th:only-of-type {\n",
       "        vertical-align: middle;\n",
       "    }\n",
       "\n",
       "    .dataframe tbody tr th {\n",
       "        vertical-align: top;\n",
       "    }\n",
       "\n",
       "    .dataframe thead th {\n",
       "        text-align: right;\n",
       "    }\n",
       "</style>\n",
       "<table border=\"1\" class=\"dataframe\">\n",
       "  <thead>\n",
       "    <tr style=\"text-align: right;\">\n",
       "      <th></th>\n",
       "      <th>C1</th>\n",
       "      <th>C2</th>\n",
       "      <th>C3</th>\n",
       "      <th>C4</th>\n",
       "      <th>C5</th>\n",
       "    </tr>\n",
       "  </thead>\n",
       "  <tbody>\n",
       "    <tr>\n",
       "      <th>R1</th>\n",
       "      <td>-0.326679</td>\n",
       "      <td>-0.795579</td>\n",
       "      <td>-0.891713</td>\n",
       "      <td>-0.855880</td>\n",
       "      <td>-1.117552</td>\n",
       "    </tr>\n",
       "    <tr>\n",
       "      <th>R2</th>\n",
       "      <td>-0.592224</td>\n",
       "      <td>1.801994</td>\n",
       "      <td>0.749930</td>\n",
       "      <td>-0.009870</td>\n",
       "      <td>-0.347903</td>\n",
       "    </tr>\n",
       "    <tr>\n",
       "      <th>R3</th>\n",
       "      <td>2.451296</td>\n",
       "      <td>0.356655</td>\n",
       "      <td>-0.404924</td>\n",
       "      <td>-1.047546</td>\n",
       "      <td>-1.589591</td>\n",
       "    </tr>\n",
       "  </tbody>\n",
       "</table>\n",
       "</div>"
      ],
      "text/plain": [
       "          C1        C2        C3        C4        C5\n",
       "R1 -0.326679 -0.795579 -0.891713 -0.855880 -1.117552\n",
       "R2 -0.592224  1.801994  0.749930 -0.009870 -0.347903\n",
       "R3  2.451296  0.356655 -0.404924 -1.047546 -1.589591"
      ]
     },
     "execution_count": 2,
     "metadata": {},
     "output_type": "execute_result"
    }
   ],
   "source": [
    "# Load data\n",
    "my_dataframe = pd.DataFrame(np.random.randn(3,5), ['R1','R2','R3'],['C1','C2','C3','C4', 'C5'])\n",
    "my_dataframe"
   ]
  },
  {
   "cell_type": "code",
   "execution_count": 3,
   "id": "cc984c1f",
   "metadata": {},
   "outputs": [
    {
     "data": {
      "text/html": [
       "<div>\n",
       "<style scoped>\n",
       "    .dataframe tbody tr th:only-of-type {\n",
       "        vertical-align: middle;\n",
       "    }\n",
       "\n",
       "    .dataframe tbody tr th {\n",
       "        vertical-align: top;\n",
       "    }\n",
       "\n",
       "    .dataframe thead th {\n",
       "        text-align: right;\n",
       "    }\n",
       "</style>\n",
       "<table border=\"1\" class=\"dataframe\">\n",
       "  <thead>\n",
       "    <tr style=\"text-align: right;\">\n",
       "      <th></th>\n",
       "      <th>C1</th>\n",
       "      <th>C2</th>\n",
       "      <th>C3</th>\n",
       "      <th>C4</th>\n",
       "      <th>C5</th>\n",
       "    </tr>\n",
       "  </thead>\n",
       "  <tbody>\n",
       "  </tbody>\n",
       "</table>\n",
       "</div>"
      ],
      "text/plain": [
       "Empty DataFrame\n",
       "Columns: [C1, C2, C3, C4, C5]\n",
       "Index: []"
      ]
     },
     "execution_count": 3,
     "metadata": {},
     "output_type": "execute_result"
    }
   ],
   "source": [
    "my_dataframe > 0\n",
    "my_dataframe[my_dataframe['C4'] > 0]\n",
    "\n",
    "# When we perform above operation the affected row is only returned"
   ]
  },
  {
   "cell_type": "markdown",
   "id": "31cb0330",
   "metadata": {},
   "source": [
    "## Multiple Conditional selection"
   ]
  },
  {
   "cell_type": "code",
   "execution_count": 4,
   "id": "8d94370a",
   "metadata": {},
   "outputs": [
    {
     "data": {
      "text/html": [
       "<div>\n",
       "<style scoped>\n",
       "    .dataframe tbody tr th:only-of-type {\n",
       "        vertical-align: middle;\n",
       "    }\n",
       "\n",
       "    .dataframe tbody tr th {\n",
       "        vertical-align: top;\n",
       "    }\n",
       "\n",
       "    .dataframe thead th {\n",
       "        text-align: right;\n",
       "    }\n",
       "</style>\n",
       "<table border=\"1\" class=\"dataframe\">\n",
       "  <thead>\n",
       "    <tr style=\"text-align: right;\">\n",
       "      <th></th>\n",
       "      <th>C1</th>\n",
       "      <th>C2</th>\n",
       "      <th>C3</th>\n",
       "      <th>C4</th>\n",
       "      <th>C5</th>\n",
       "    </tr>\n",
       "  </thead>\n",
       "  <tbody>\n",
       "    <tr>\n",
       "      <th>R1</th>\n",
       "      <td>-0.326679</td>\n",
       "      <td>-0.795579</td>\n",
       "      <td>-0.891713</td>\n",
       "      <td>-0.855880</td>\n",
       "      <td>-1.117552</td>\n",
       "    </tr>\n",
       "    <tr>\n",
       "      <th>R2</th>\n",
       "      <td>-0.592224</td>\n",
       "      <td>1.801994</td>\n",
       "      <td>0.749930</td>\n",
       "      <td>-0.009870</td>\n",
       "      <td>-0.347903</td>\n",
       "    </tr>\n",
       "    <tr>\n",
       "      <th>R3</th>\n",
       "      <td>2.451296</td>\n",
       "      <td>0.356655</td>\n",
       "      <td>-0.404924</td>\n",
       "      <td>-1.047546</td>\n",
       "      <td>-1.589591</td>\n",
       "    </tr>\n",
       "  </tbody>\n",
       "</table>\n",
       "</div>"
      ],
      "text/plain": [
       "          C1        C2        C3        C4        C5\n",
       "R1 -0.326679 -0.795579 -0.891713 -0.855880 -1.117552\n",
       "R2 -0.592224  1.801994  0.749930 -0.009870 -0.347903\n",
       "R3  2.451296  0.356655 -0.404924 -1.047546 -1.589591"
      ]
     },
     "execution_count": 4,
     "metadata": {},
     "output_type": "execute_result"
    }
   ],
   "source": [
    "my_dataframe"
   ]
  },
  {
   "cell_type": "code",
   "execution_count": 5,
   "id": "9cf4acbe",
   "metadata": {},
   "outputs": [
    {
     "data": {
      "text/html": [
       "<div>\n",
       "<style scoped>\n",
       "    .dataframe tbody tr th:only-of-type {\n",
       "        vertical-align: middle;\n",
       "    }\n",
       "\n",
       "    .dataframe tbody tr th {\n",
       "        vertical-align: top;\n",
       "    }\n",
       "\n",
       "    .dataframe thead th {\n",
       "        text-align: right;\n",
       "    }\n",
       "</style>\n",
       "<table border=\"1\" class=\"dataframe\">\n",
       "  <thead>\n",
       "    <tr style=\"text-align: right;\">\n",
       "      <th></th>\n",
       "      <th>C1</th>\n",
       "      <th>C2</th>\n",
       "      <th>C3</th>\n",
       "      <th>C4</th>\n",
       "      <th>C5</th>\n",
       "    </tr>\n",
       "  </thead>\n",
       "  <tbody>\n",
       "  </tbody>\n",
       "</table>\n",
       "</div>"
      ],
      "text/plain": [
       "Empty DataFrame\n",
       "Columns: [C1, C2, C3, C4, C5]\n",
       "Index: []"
      ]
     },
     "execution_count": 5,
     "metadata": {},
     "output_type": "execute_result"
    }
   ],
   "source": [
    "my_dataframe[(my_dataframe['C4'] > 0) & (my_dataframe['C5'] > 0)] # AND\n",
    "\n",
    "# Use parenthesis numpy requires single entity inside a parenthesis."
   ]
  },
  {
   "cell_type": "code",
   "execution_count": 6,
   "id": "76787ad3",
   "metadata": {},
   "outputs": [
    {
     "data": {
      "text/html": [
       "<div>\n",
       "<style scoped>\n",
       "    .dataframe tbody tr th:only-of-type {\n",
       "        vertical-align: middle;\n",
       "    }\n",
       "\n",
       "    .dataframe tbody tr th {\n",
       "        vertical-align: top;\n",
       "    }\n",
       "\n",
       "    .dataframe thead th {\n",
       "        text-align: right;\n",
       "    }\n",
       "</style>\n",
       "<table border=\"1\" class=\"dataframe\">\n",
       "  <thead>\n",
       "    <tr style=\"text-align: right;\">\n",
       "      <th></th>\n",
       "      <th>C1</th>\n",
       "      <th>C2</th>\n",
       "      <th>C3</th>\n",
       "      <th>C4</th>\n",
       "      <th>C5</th>\n",
       "    </tr>\n",
       "  </thead>\n",
       "  <tbody>\n",
       "  </tbody>\n",
       "</table>\n",
       "</div>"
      ],
      "text/plain": [
       "Empty DataFrame\n",
       "Columns: [C1, C2, C3, C4, C5]\n",
       "Index: []"
      ]
     },
     "execution_count": 6,
     "metadata": {},
     "output_type": "execute_result"
    }
   ],
   "source": [
    "my_dataframe[(my_dataframe['C4'] > 0) | (my_dataframe['C5'] > 0)] # OR\n",
    "\n",
    "# Use parenthesis numpy requires single entity inside a parenthesis."
   ]
  },
  {
   "cell_type": "markdown",
   "id": "2284f484",
   "metadata": {},
   "source": [
    "### Setting a new index to a dataframe."
   ]
  },
  {
   "cell_type": "code",
   "execution_count": 7,
   "id": "2ea2881c",
   "metadata": {},
   "outputs": [
    {
     "data": {
      "text/html": [
       "<div>\n",
       "<style scoped>\n",
       "    .dataframe tbody tr th:only-of-type {\n",
       "        vertical-align: middle;\n",
       "    }\n",
       "\n",
       "    .dataframe tbody tr th {\n",
       "        vertical-align: top;\n",
       "    }\n",
       "\n",
       "    .dataframe thead th {\n",
       "        text-align: right;\n",
       "    }\n",
       "</style>\n",
       "<table border=\"1\" class=\"dataframe\">\n",
       "  <thead>\n",
       "    <tr style=\"text-align: right;\">\n",
       "      <th></th>\n",
       "      <th>C1</th>\n",
       "      <th>C2</th>\n",
       "      <th>C3</th>\n",
       "      <th>C4</th>\n",
       "      <th>C5</th>\n",
       "    </tr>\n",
       "  </thead>\n",
       "  <tbody>\n",
       "    <tr>\n",
       "      <th>R1</th>\n",
       "      <td>-0.326679</td>\n",
       "      <td>-0.795579</td>\n",
       "      <td>-0.891713</td>\n",
       "      <td>-0.855880</td>\n",
       "      <td>-1.117552</td>\n",
       "    </tr>\n",
       "    <tr>\n",
       "      <th>R2</th>\n",
       "      <td>-0.592224</td>\n",
       "      <td>1.801994</td>\n",
       "      <td>0.749930</td>\n",
       "      <td>-0.009870</td>\n",
       "      <td>-0.347903</td>\n",
       "    </tr>\n",
       "    <tr>\n",
       "      <th>R3</th>\n",
       "      <td>2.451296</td>\n",
       "      <td>0.356655</td>\n",
       "      <td>-0.404924</td>\n",
       "      <td>-1.047546</td>\n",
       "      <td>-1.589591</td>\n",
       "    </tr>\n",
       "  </tbody>\n",
       "</table>\n",
       "</div>"
      ],
      "text/plain": [
       "          C1        C2        C3        C4        C5\n",
       "R1 -0.326679 -0.795579 -0.891713 -0.855880 -1.117552\n",
       "R2 -0.592224  1.801994  0.749930 -0.009870 -0.347903\n",
       "R3  2.451296  0.356655 -0.404924 -1.047546 -1.589591"
      ]
     },
     "execution_count": 7,
     "metadata": {},
     "output_type": "execute_result"
    }
   ],
   "source": [
    "my_new_index = ['row1','row3','row3']\n",
    "my_dataframe"
   ]
  },
  {
   "cell_type": "code",
   "execution_count": 11,
   "id": "81b5d0fe",
   "metadata": {},
   "outputs": [],
   "source": [
    "# Step 1 : Add new Column.\n",
    "my_dataframe['NewIndex'] = my_new_index"
   ]
  },
  {
   "cell_type": "code",
   "execution_count": 12,
   "id": "c9076a06",
   "metadata": {},
   "outputs": [
    {
     "data": {
      "text/html": [
       "<div>\n",
       "<style scoped>\n",
       "    .dataframe tbody tr th:only-of-type {\n",
       "        vertical-align: middle;\n",
       "    }\n",
       "\n",
       "    .dataframe tbody tr th {\n",
       "        vertical-align: top;\n",
       "    }\n",
       "\n",
       "    .dataframe thead th {\n",
       "        text-align: right;\n",
       "    }\n",
       "</style>\n",
       "<table border=\"1\" class=\"dataframe\">\n",
       "  <thead>\n",
       "    <tr style=\"text-align: right;\">\n",
       "      <th></th>\n",
       "      <th>C1</th>\n",
       "      <th>C2</th>\n",
       "      <th>C3</th>\n",
       "      <th>C4</th>\n",
       "      <th>C5</th>\n",
       "    </tr>\n",
       "    <tr>\n",
       "      <th>NewIndex</th>\n",
       "      <th></th>\n",
       "      <th></th>\n",
       "      <th></th>\n",
       "      <th></th>\n",
       "      <th></th>\n",
       "    </tr>\n",
       "  </thead>\n",
       "  <tbody>\n",
       "    <tr>\n",
       "      <th>row1</th>\n",
       "      <td>-0.326679</td>\n",
       "      <td>-0.795579</td>\n",
       "      <td>-0.891713</td>\n",
       "      <td>-0.855880</td>\n",
       "      <td>-1.117552</td>\n",
       "    </tr>\n",
       "    <tr>\n",
       "      <th>row3</th>\n",
       "      <td>-0.592224</td>\n",
       "      <td>1.801994</td>\n",
       "      <td>0.749930</td>\n",
       "      <td>-0.009870</td>\n",
       "      <td>-0.347903</td>\n",
       "    </tr>\n",
       "    <tr>\n",
       "      <th>row3</th>\n",
       "      <td>2.451296</td>\n",
       "      <td>0.356655</td>\n",
       "      <td>-0.404924</td>\n",
       "      <td>-1.047546</td>\n",
       "      <td>-1.589591</td>\n",
       "    </tr>\n",
       "  </tbody>\n",
       "</table>\n",
       "</div>"
      ],
      "text/plain": [
       "                C1        C2        C3        C4        C5\n",
       "NewIndex                                                  \n",
       "row1     -0.326679 -0.795579 -0.891713 -0.855880 -1.117552\n",
       "row3     -0.592224  1.801994  0.749930 -0.009870 -0.347903\n",
       "row3      2.451296  0.356655 -0.404924 -1.047546 -1.589591"
      ]
     },
     "execution_count": 12,
     "metadata": {},
     "output_type": "execute_result"
    }
   ],
   "source": [
    "# Step 2 : Set new column as an index.\n",
    "my_dataframe.set_index('NewIndex')"
   ]
  }
 ],
 "metadata": {
  "kernelspec": {
   "display_name": "Python 3 (ipykernel)",
   "language": "python",
   "name": "python3"
  },
  "language_info": {
   "codemirror_mode": {
    "name": "ipython",
    "version": 3
   },
   "file_extension": ".py",
   "mimetype": "text/x-python",
   "name": "python",
   "nbconvert_exporter": "python",
   "pygments_lexer": "ipython3",
   "version": "3.9.13"
  }
 },
 "nbformat": 4,
 "nbformat_minor": 5
}
