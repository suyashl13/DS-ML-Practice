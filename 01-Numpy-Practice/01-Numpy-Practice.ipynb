{
 "cells": [
  {
   "cell_type": "markdown",
   "id": "d8ed37ae",
   "metadata": {},
   "source": [
    "# Numpy Basics"
   ]
  },
  {
   "cell_type": "code",
   "execution_count": 1,
   "id": "078954a1",
   "metadata": {},
   "outputs": [
    {
     "data": {
      "text/plain": [
       "[1, 2, 3, 4, 5, 6]"
      ]
     },
     "execution_count": 1,
     "metadata": {},
     "output_type": "execute_result"
    }
   ],
   "source": [
    "my_list = [1,2,3,4,5,6]\n",
    "my_list"
   ]
  },
  {
   "cell_type": "code",
   "execution_count": 2,
   "id": "ceef2b14",
   "metadata": {},
   "outputs": [],
   "source": [
    "import numpy as np"
   ]
  },
  {
   "cell_type": "code",
   "execution_count": 3,
   "id": "e5e9a7f1",
   "metadata": {},
   "outputs": [],
   "source": [
    "myOneDDarray = np.array(my_list\n",
    "            )"
   ]
  },
  {
   "cell_type": "code",
   "execution_count": 4,
   "id": "e54e54e1",
   "metadata": {},
   "outputs": [
    {
     "data": {
      "text/plain": [
       "array([1, 2, 3, 4, 5, 6])"
      ]
     },
     "execution_count": 4,
     "metadata": {},
     "output_type": "execute_result"
    }
   ],
   "source": [
    "myOneDDarray"
   ]
  },
  {
   "cell_type": "code",
   "execution_count": 5,
   "id": "3fb391ee",
   "metadata": {},
   "outputs": [
    {
     "data": {
      "text/plain": [
       "array([[1., 1., 1., 1.],\n",
       "       [1., 1., 1., 1.],\n",
       "       [1., 1., 1., 1.]])"
      ]
     },
     "execution_count": 5,
     "metadata": {},
     "output_type": "execute_result"
    }
   ],
   "source": [
    "np.ones((3,4))"
   ]
  },
  {
   "cell_type": "markdown",
   "id": "0fe6459c",
   "metadata": {},
   "source": [
    "## arange() and linspace functions in numpy."
   ]
  },
  {
   "cell_type": "code",
   "execution_count": 6,
   "id": "0a257ba0",
   "metadata": {},
   "outputs": [
    {
     "data": {
      "text/plain": [
       "array([ 0.,  2.,  4.,  6.,  8., 10.])"
      ]
     },
     "execution_count": 6,
     "metadata": {},
     "output_type": "execute_result"
    }
   ],
   "source": [
    "np.linspace(0,10, 6) # Linspace divides line in given equal parts."
   ]
  },
  {
   "cell_type": "code",
   "execution_count": 7,
   "id": "87daaee1",
   "metadata": {},
   "outputs": [
    {
     "data": {
      "text/plain": [
       "array([ 0,  2,  4,  6,  8, 10, 12, 14, 16, 18])"
      ]
     },
     "execution_count": 7,
     "metadata": {},
     "output_type": "execute_result"
    }
   ],
   "source": [
    "np.arange(0, 20, 2) # arange skips the given digits."
   ]
  },
  {
   "cell_type": "code",
   "execution_count": 8,
   "id": "aec00cc3",
   "metadata": {},
   "outputs": [
    {
     "data": {
      "text/plain": [
       "array([[ 0.52607115, -0.99681913,  0.16701837, -1.13591767, -1.79663679],\n",
       "       [-0.17787879, -0.52807663,  1.40357339, -0.65564339,  0.64486456],\n",
       "       [-0.34477811, -0.13392212,  1.53558898, -0.57241048, -0.36395467],\n",
       "       [-1.48477018,  1.58534586, -1.4346553 ,  0.12144731,  0.05020406],\n",
       "       [-1.2071149 ,  0.03514818,  0.60788476, -0.77772809, -1.19963674]])"
      ]
     },
     "execution_count": 8,
     "metadata": {},
     "output_type": "execute_result"
    }
   ],
   "source": [
    "np.random.randn(5,5)"
   ]
  },
  {
   "cell_type": "markdown",
   "id": "3b622473",
   "metadata": {},
   "source": [
    "## Reshaping an array."
   ]
  },
  {
   "cell_type": "code",
   "execution_count": 9,
   "id": "f603ece1",
   "metadata": {},
   "outputs": [
    {
     "data": {
      "text/plain": [
       "array([ 0,  1,  2,  3,  4,  5,  6,  7,  8,  9, 10, 11, 12, 13, 14, 15, 16,\n",
       "       17, 18, 19])"
      ]
     },
     "execution_count": 9,
     "metadata": {},
     "output_type": "execute_result"
    }
   ],
   "source": [
    "my_list = np.arange(0,20)\n",
    "my_list"
   ]
  },
  {
   "cell_type": "code",
   "execution_count": 10,
   "id": "203613d1",
   "metadata": {},
   "outputs": [
    {
     "data": {
      "text/plain": [
       "array([[ 0,  1,  2,  3],\n",
       "       [ 4,  5,  6,  7],\n",
       "       [ 8,  9, 10, 11],\n",
       "       [12, 13, 14, 15],\n",
       "       [16, 17, 18, 19]])"
      ]
     },
     "execution_count": 10,
     "metadata": {},
     "output_type": "execute_result"
    }
   ],
   "source": [
    "my_list.reshape(-4,4)"
   ]
  },
  {
   "cell_type": "markdown",
   "id": "96f77f64",
   "metadata": {},
   "source": [
    "## 2D Arrays"
   ]
  },
  {
   "cell_type": "code",
   "execution_count": 11,
   "id": "0a63288a",
   "metadata": {},
   "outputs": [
    {
     "data": {
      "text/plain": [
       "array([[1, 2, 3],\n",
       "       [4, 5, 6],\n",
       "       [7, 8, 9]])"
      ]
     },
     "execution_count": 11,
     "metadata": {},
     "output_type": "execute_result"
    }
   ],
   "source": [
    "my_2d_arraay = np.array([\n",
    "    [1,2,3],\n",
    "    [4,5,6],\n",
    "    [7,8,9],\n",
    "])\n",
    "my_2d_arraay"
   ]
  },
  {
   "cell_type": "code",
   "execution_count": 12,
   "id": "d8368d44",
   "metadata": {},
   "outputs": [
    {
     "data": {
      "text/plain": [
       "8"
      ]
     },
     "execution_count": 12,
     "metadata": {},
     "output_type": "execute_result"
    }
   ],
   "source": [
    "# Grab 8 from 2,1\n",
    "my_2d_arraay[2][1]"
   ]
  },
  {
   "cell_type": "code",
   "execution_count": 13,
   "id": "405c8bfe",
   "metadata": {},
   "outputs": [
    {
     "data": {
      "text/plain": [
       "array([[2, 3],\n",
       "       [5, 6]])"
      ]
     },
     "execution_count": 13,
     "metadata": {},
     "output_type": "execute_result"
    }
   ],
   "source": [
    "my_2d_arraay[:2,1:]"
   ]
  },
  {
   "cell_type": "code",
   "execution_count": 14,
   "id": "a0e6bb13",
   "metadata": {},
   "outputs": [],
   "source": [
    "new_array = np.arange(0,30,2)"
   ]
  },
  {
   "cell_type": "code",
   "execution_count": 15,
   "id": "366ae52c",
   "metadata": {},
   "outputs": [
    {
     "data": {
      "text/plain": [
       "array([12, 14, 16, 18, 20, 22, 24, 26, 28])"
      ]
     },
     "execution_count": 15,
     "metadata": {},
     "output_type": "execute_result"
    }
   ],
   "source": [
    "new_array[ new_array > 10 ]"
   ]
  },
  {
   "cell_type": "markdown",
   "id": "6765acdc",
   "metadata": {},
   "source": [
    "## Basic operations"
   ]
  },
  {
   "cell_type": "code",
   "execution_count": 16,
   "id": "75cdd042",
   "metadata": {},
   "outputs": [
    {
     "data": {
      "text/plain": [
       "array([0.        , 1.41421356, 2.        , 2.44948974, 2.82842712,\n",
       "       3.16227766, 3.46410162, 3.74165739, 4.        , 4.24264069,\n",
       "       4.47213595, 4.69041576, 4.89897949, 5.09901951, 5.29150262])"
      ]
     },
     "execution_count": 16,
     "metadata": {},
     "output_type": "execute_result"
    }
   ],
   "source": [
    "np.sqrt(new_array)"
   ]
  },
  {
   "cell_type": "code",
   "execution_count": 17,
   "id": "cb206695",
   "metadata": {},
   "outputs": [
    {
     "data": {
      "text/plain": [
       "14.0"
      ]
     },
     "execution_count": 17,
     "metadata": {},
     "output_type": "execute_result"
    }
   ],
   "source": [
    "np.mean(new_array)"
   ]
  },
  {
   "cell_type": "code",
   "execution_count": null,
   "id": "3ab5d50a",
   "metadata": {},
   "outputs": [],
   "source": []
  }
 ],
 "metadata": {
  "kernelspec": {
   "display_name": "Python 3 (ipykernel)",
   "language": "python",
   "name": "python3"
  },
  "language_info": {
   "codemirror_mode": {
    "name": "ipython",
    "version": 3
   },
   "file_extension": ".py",
   "mimetype": "text/x-python",
   "name": "python",
   "nbconvert_exporter": "python",
   "pygments_lexer": "ipython3",
   "version": "3.9.13"
  }
 },
 "nbformat": 4,
 "nbformat_minor": 5
}
